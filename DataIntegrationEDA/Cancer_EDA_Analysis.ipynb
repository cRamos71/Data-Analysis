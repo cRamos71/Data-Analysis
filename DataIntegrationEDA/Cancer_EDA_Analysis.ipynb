{
 "cells": [
  {
   "cell_type": "code",
   "execution_count": null,
   "id": "ec3cf12e",
   "metadata": {},
   "outputs": [],
   "source": [
    "import pandas as pd\n",
    "import matplotlib.pyplot as plt\n",
    "import seaborn as sns\n",
    "\n",
    "file_path = '_cancer_dataset_uae.csv'\n",
    "\n",
    "df = pd.read_csv(file_path, encoding='utf-8', delimiter=',', na_values=[\"N/A\", \"NULL\" ,\" \"])\n"
   ]
  },
  {
   "cell_type": "code",
   "execution_count": null,
   "id": "7960a6d4",
   "metadata": {},
   "outputs": [],
   "source": [
    "def initialExploration():\n",
    "    print(df.head())\n",
    "    print(df.info())\n",
    "    print(df.describe())\n",
    "initialExploration()\n"
   ]
  },
  {
   "cell_type": "code",
   "execution_count": null,
   "id": "5112d856",
   "metadata": {},
   "outputs": [],
   "source": [
    "def handleNullValues():\n",
    "    print(df.isnull().sum())\n",
    "handleNullValues()\n"
   ]
  },
  {
   "cell_type": "code",
   "execution_count": null,
   "id": "f2f8c202",
   "metadata": {},
   "outputs": [],
   "source": [
    "def handleDuplicateds():\n",
    "    if df.duplicated().any():\n",
    "        print(f\"Number of duplicate rows: {df.duplicated().sum()}\")\n",
    "        df.drop_duplicates(inplace=True)\n",
    "        print(\"Duplicates removed.\")\n",
    "    else:\n",
    "        print(\"No duplicate rows found.\")\n",
    "handleDuplicateds()\n"
   ]
  },
  {
   "cell_type": "code",
   "execution_count": null,
   "id": "5f06f60d",
   "metadata": {},
   "outputs": [],
   "source": [
    "def handleStandardization():\n",
    "    df.columns = df.columns.str.strip().str.lower().str.replace(' ', '_')\n",
    "    for col in df.select_dtypes(include='object').columns:\n",
    "        df[col] = df[col].str.strip().str.lower()\n",
    "    df['diagnosis_date'] = pd.to_datetime(df['diagnosis_date'], errors='coerce')\n",
    "    df['treatment_start_date'] = pd.to_datetime(df['treatment_start_date'], errors='coerce')\n",
    "    df['death_date'] = pd.to_datetime(df['death_date'], errors='coerce')\n",
    "    df['comorbidities'] = df['comorbidities'].fillna('none')\n",
    "    df['cause_of_death'] = df['cause_of_death'].fillna('alive')\n",
    "handleStandardization()\n"
   ]
  },
  {
   "cell_type": "code",
   "execution_count": null,
   "id": "4bb9e18a",
   "metadata": {},
   "outputs": [],
   "source": [
    "def numericalVariablesSummary():\n",
    "    print(df[['age', 'weight', 'height']].describe())\n",
    "numericalVariablesSummary()\n"
   ]
  },
  {
   "cell_type": "code",
   "execution_count": null,
   "id": "806ebe0e",
   "metadata": {},
   "outputs": [],
   "source": [
    "def categoricalVariablesDistribution():\n",
    "    for col in df.select_dtypes(include='object').columns:\n",
    "        if col in ['patient_id', 'primary_physician']:\n",
    "            continue\n",
    "        print(f\"Value counts for '{col}':\")\n",
    "        value_counts = df[col].value_counts()\n",
    "        percentages = df[col].value_counts(normalize=True) * 100\n",
    "        for category in value_counts.index:\n",
    "            count = value_counts[category]\n",
    "            percent = percentages[category]\n",
    "            print(f\"{category}: {count} ({percent:.2f}%)\")\n",
    "        print(\"-\" * 40)\n",
    "categoricalVariablesDistribution()\n"
   ]
  },
  {
   "cell_type": "code",
   "execution_count": null,
   "id": "1b65d4e7",
   "metadata": {},
   "outputs": [],
   "source": [
    "def correlationAnalysis():\n",
    "    correlation_matrix = df[['age', 'weight', 'height']].corr()\n",
    "    print(\"\\nCorrelation Matrix:\")\n",
    "    print(correlation_matrix)\n",
    "\n",
    "    avg_age_by_cancer = df.groupby('cancer_type')['age'].mean().sort_values(ascending=False)\n",
    "    print(\"\\nAverage Age by Cancer Type:\")\n",
    "    print(avg_age_by_cancer)\n",
    "\n",
    "    outcome_by_treatment = df.groupby('treatment_type')['outcome'].value_counts().unstack().fillna(0)\n",
    "    print(\"\\nOutcome Distribution by Treatment Type:\")\n",
    "    print(outcome_by_treatment)\n",
    "correlationAnalysis()\n"
   ]
  },
  {
   "cell_type": "code",
   "execution_count": null,
   "id": "49c0d375",
   "metadata": {},
   "outputs": [],
   "source": [
    "def insightsVisualization():\n",
    "    plt.hist(df['age'], bins=20, edgecolor='black')\n",
    "    plt.title('Distribution of Patient Age')\n",
    "    plt.xlabel('Age')\n",
    "    plt.ylabel('Number of Patients')\n",
    "    plt.grid(True)\n",
    "    plt.show()\n",
    "\n",
    "    plt.hist(df['height'], bins=20, edgecolor='black')\n",
    "    plt.title('Distribution of Patient Height')\n",
    "    plt.xlabel('Height (cm)')\n",
    "    plt.ylabel('Number of Patients')\n",
    "    plt.grid(True)\n",
    "    plt.show()\n",
    "\n",
    "    plt.hist(df['weight'], bins=20, edgecolor='black')\n",
    "    plt.title('Distribution of Patient Weight')\n",
    "    plt.xlabel('Weight (kg)')\n",
    "    plt.ylabel('Number of Patients')\n",
    "    plt.grid(True)\n",
    "    plt.show()\n",
    "\n",
    "    cancer_counts = df['cancer_type'].value_counts()\n",
    "    cancer_counts.plot(kind='bar')\n",
    "    plt.title('Cancer Type Frequency')\n",
    "    plt.xlabel('Cancer Type')\n",
    "    plt.ylabel('Number of Patients')\n",
    "    plt.xticks(rotation=45)\n",
    "    plt.grid(True)\n",
    "    plt.tight_layout()\n",
    "    plt.show()\n",
    "\n",
    "    plt.scatter(df['weight'], df['height'], alpha=0.5)\n",
    "    plt.title('Weight vs Height')\n",
    "    plt.xlabel('Weight (kg)')\n",
    "    plt.ylabel('Height (cm)')\n",
    "    plt.grid(True)\n",
    "    plt.show()\n",
    "\n",
    "    sns.boxplot(x='gender', y='age', data=df)\n",
    "    plt.title('Age Distribution by Gender')\n",
    "    plt.show()\n",
    "\n",
    "    corr = df[['age', 'weight', 'height']].corr()\n",
    "    sns.heatmap(corr, annot=True, cmap='coolwarm')\n",
    "    plt.title('Correlation Heatmap')\n",
    "    plt.show()\n",
    "\n",
    "insightsVisualization()\n"
   ]
  }
 ],
 "metadata": {},
 "nbformat": 4,
 "nbformat_minor": 5
}