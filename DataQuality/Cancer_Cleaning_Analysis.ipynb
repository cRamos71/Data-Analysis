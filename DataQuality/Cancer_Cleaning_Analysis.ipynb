{
 "cells": [
  {
   "cell_type": "markdown",
   "id": "5f31d352",
   "metadata": {},
   "source": [
    "# Cancer Dataset - Missing Values and Outlier Analysis\n",
    "\n",
    "This notebook performs data exploration, cleaning, and outlier handling on the UAE Cancer Dataset.\n"
   ]
  },
  {
   "cell_type": "code",
   "execution_count": null,
   "id": "b9051421",
   "metadata": {},
   "outputs": [],
   "source": [
    "import pandas as pd\n",
    "import matplotlib.pyplot as plt\n",
    "import seaborn as sns\n",
    "\n",
    "file_path = '_cancer_dataset_uae.csv'\n",
    "df = pd.read_csv(file_path, encoding='utf-8', delimiter=',')\n"
   ]
  },
  {
   "cell_type": "code",
   "execution_count": null,
   "id": "dd8f6a3a",
   "metadata": {},
   "outputs": [],
   "source": [
    "print(df.head())\n",
    "print(df.info())\n",
    "print(df.describe())\n"
   ]
  },
  {
   "cell_type": "code",
   "execution_count": null,
   "id": "be009d10",
   "metadata": {},
   "outputs": [],
   "source": [
    "print(\"Missing values per column:\")\n",
    "print(df.isnull().sum())\n"
   ]
  },
  {
   "cell_type": "code",
   "execution_count": null,
   "id": "9c5a1fb9",
   "metadata": {},
   "outputs": [],
   "source": [
    "if df.duplicated().any():\n",
    "    print(f\"Duplicates found: {df.duplicated().sum()}\")\n",
    "    df = df.drop_duplicates()\n",
    "    print(\"Duplicates removed.\")\n",
    "else:\n",
    "    print(\"No duplicate rows found.\")\n"
   ]
  },
  {
   "cell_type": "code",
   "execution_count": null,
   "id": "5da0b50e",
   "metadata": {},
   "outputs": [],
   "source": [
    "df.columns = df.columns.str.strip().str.lower().str.replace(' ', '_')\n",
    "for col in df.select_dtypes(include='object').columns:\n",
    "    df[col] = df[col].str.strip().str.lower()\n",
    "\n",
    "df['diagnosis_date'] = pd.to_datetime(df['diagnosis_date'], errors='coerce')\n",
    "df['treatment_start_date'] = pd.to_datetime(df['treatment_start_date'], errors='coerce')\n",
    "df['death_date'] = pd.to_datetime(df['death_date'], errors='coerce')\n"
   ]
  },
  {
   "cell_type": "code",
   "execution_count": null,
   "id": "fd46ea30",
   "metadata": {},
   "outputs": [],
   "source": [
    "missing_percentage = (df.isnull().sum() / len(df)) * 100\n",
    "print(\"Percentage of missing values per column:\")\n",
    "print(missing_percentage)\n"
   ]
  },
  {
   "cell_type": "code",
   "execution_count": null,
   "id": "c7f4a961",
   "metadata": {},
   "outputs": [],
   "source": [
    "df['comorbidities'] = df['comorbidities'].fillna('none')\n",
    "df['cause_of_death'] = df['cause_of_death'].fillna('alive')\n"
   ]
  },
  {
   "cell_type": "code",
   "execution_count": null,
   "id": "bb04a485",
   "metadata": {},
   "outputs": [],
   "source": [
    "df_filtered = df.copy()\n",
    "for column in ['age', 'weight', 'height']:\n",
    "    Q1 = df[column].quantile(0.25)\n",
    "    Q3 = df[column].quantile(0.75)\n",
    "    IQR = Q3 - Q1\n",
    "    lower_bound = Q1 - 1.5 * IQR\n",
    "    upper_bound = Q3 + 1.5 * IQR\n",
    "    outliers = df[(df[column] < lower_bound) | (df[column] > upper_bound)]\n",
    "    print(f\"{column.capitalize()} - Outliers found: {len(outliers)}\")\n",
    "\n",
    "    plt.figure(figsize=(8, 5))\n",
    "    sns.boxplot(x=df[column])\n",
    "    plt.title(f\"Box Plot for {column.capitalize()}\")\n",
    "    plt.grid(True)\n",
    "    plt.show()\n",
    "\n",
    "    df_filtered = df_filtered[(df_filtered[column] >= lower_bound) & (df_filtered[column] <= upper_bound)]\n"
   ]
  },
  {
   "cell_type": "code",
   "execution_count": null,
   "id": "244463ca",
   "metadata": {},
   "outputs": [],
   "source": [
    "print(f\"Original dataset rows: {len(df)}\")\n",
    "print(f\"Cleaned dataset rows: {len(df_filtered)}\")\n",
    "df_filtered.to_csv(\"cancerSummary.csv\", index=False)\n"
   ]
  }
 ],
 "metadata": {
  "language_info": {
   "name": "python"
  }
 },
 "nbformat": 4,
 "nbformat_minor": 5
}
